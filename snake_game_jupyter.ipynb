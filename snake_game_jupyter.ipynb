{
 "cells": [
  {
   "cell_type": "markdown",
   "id": "dc596c1c",
   "metadata": {},
   "source": [
    "Jupyter compatible snake \n",
    "\n",
    "Built by https://chatgpt.com/share/6808cdf2-a43c-8003-9a93-6fdbef723322"
   ]
  },
  {
   "cell_type": "code",
   "execution_count": 5,
   "id": "b6599084",
   "metadata": {},
   "outputs": [
    {
     "data": {
      "application/vnd.jupyter.widget-view+json": {
       "model_id": "313eda7d8b5d460080e9c7a536c10ffe",
       "version_major": 2,
       "version_minor": 0
      },
      "text/plain": [
       "Canvas(height=400, width=400)"
      ]
     },
     "metadata": {},
     "output_type": "display_data"
    }
   ],
   "source": [
    "from ipycanvas import Canvas, hold_canvas\n",
    "from IPython.display import display\n",
    "import threading\n",
    "import time\n",
    "import random\n",
    "\n",
    "# Constants\n",
    "WIDTH, HEIGHT = 400, 400\n",
    "TILE_SIZE = 20\n",
    "ROWS, COLS = HEIGHT // TILE_SIZE, WIDTH // TILE_SIZE\n",
    "\n",
    "# Canvas setup\n",
    "canvas = Canvas(width=WIDTH, height=HEIGHT)\n",
    "display(canvas)\n",
    "\n",
    "# Game state\n",
    "snake = [(5, 5)]\n",
    "direction = (1, 0)  # moving right\n",
    "food = (10, 10)\n",
    "game_over = False\n",
    "\n",
    "def place_food():\n",
    "    while True:\n",
    "        new_food = (random.randint(0, COLS - 1), random.randint(0, ROWS - 1))\n",
    "        if new_food not in snake:\n",
    "            return new_food\n",
    "\n",
    "def draw():\n",
    "    with hold_canvas(canvas):\n",
    "        canvas.clear()\n",
    "        # Draw snake\n",
    "        for x, y in snake:\n",
    "            canvas.fill_rect(x * TILE_SIZE, y * TILE_SIZE, TILE_SIZE, TILE_SIZE)\n",
    "        # Draw food\n",
    "        fx, fy = food\n",
    "        canvas.fill_style = 'red'\n",
    "        canvas.fill_rect(fx * TILE_SIZE, fy * TILE_SIZE, TILE_SIZE, TILE_SIZE)\n",
    "        canvas.fill_style = 'black'\n",
    "\n",
    "def update():\n",
    "    global snake, food, direction, game_over\n",
    "    if game_over:\n",
    "        return\n",
    "\n",
    "    # Move snake\n",
    "    head = (snake[0][0] + direction[0], snake[0][1] + direction[1])\n",
    "\n",
    "    # Check wall or self collision\n",
    "    if (\n",
    "        head[0] < 0 or head[0] >= COLS or\n",
    "        head[1] < 0 or head[1] >= ROWS or\n",
    "        head in snake\n",
    "    ):\n",
    "        game_over = True\n",
    "        return\n",
    "\n",
    "    snake.insert(0, head)\n",
    "\n",
    "    # Check food\n",
    "    if head == food:\n",
    "        food = place_food()\n",
    "    else:\n",
    "        snake.pop()\n",
    "\n",
    "def game_loop():\n",
    "    while not game_over:\n",
    "        update()\n",
    "        draw()\n",
    "        time.sleep(0.15)\n",
    "    with hold_canvas(canvas):\n",
    "        canvas.fill_style = 'black'\n",
    "        canvas.fill_text(\"Game Over\", WIDTH // 2 - 40, HEIGHT // 2)\n",
    "\n",
    "# Keyboard controls\n",
    "def on_key(event):\n",
    "    global direction\n",
    "    key = event['key']\n",
    "    if key == 'ArrowUp' and direction != (0, 1):\n",
    "        direction = (0, -1)\n",
    "    elif key == 'ArrowDown' and direction != (0, -1):\n",
    "        direction = (0, 1)\n",
    "    elif key == 'ArrowLeft' and direction != (1, 0):\n",
    "        direction = (-1, 0)\n",
    "    elif key == 'ArrowRight' and direction != (-1, 0):\n",
    "        direction = (1, 0)\n",
    "\n",
    "canvas.on_key_down(on_key)\n",
    "canvas.focus()\n",
    "\n",
    "# Start game\n",
    "threading.Thread(target=game_loop, daemon=True).start()\n"
   ]
  }
 ],
 "metadata": {
  "kernelspec": {
   "display_name": ".venv",
   "language": "python",
   "name": "python3"
  },
  "language_info": {
   "codemirror_mode": {
    "name": "ipython",
    "version": 3
   },
   "file_extension": ".py",
   "mimetype": "text/x-python",
   "name": "python",
   "nbconvert_exporter": "python",
   "pygments_lexer": "ipython3",
   "version": "3.13.2"
  }
 },
 "nbformat": 4,
 "nbformat_minor": 5
}
